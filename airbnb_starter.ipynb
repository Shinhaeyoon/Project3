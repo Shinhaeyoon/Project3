{
 "cells": [
  {
   "cell_type": "code",
   "execution_count": 1,
   "metadata": {},
   "outputs": [],
   "source": [
    "%matplotlib inline\n",
    "from matplotlib import style\n",
    "style.use('fivethirtyeight')\n",
    "import matplotlib.pyplot as plt"
   ]
  },
  {
   "cell_type": "code",
   "execution_count": 2,
   "metadata": {},
   "outputs": [],
   "source": [
    "import numpy as np\n",
    "import pandas as pd"
   ]
  },
  {
   "cell_type": "code",
   "execution_count": 3,
   "metadata": {},
   "outputs": [],
   "source": [
    "import sqlalchemy\n",
    "from sqlalchemy.ext.automap import automap_base\n",
    "from sqlalchemy.orm import Session\n",
    "from sqlalchemy import create_engine, func"
   ]
  },
  {
   "cell_type": "code",
   "execution_count": 4,
   "metadata": {},
   "outputs": [],
   "source": [
    "from sqlalchemy import create_engine, MetaData, Table, Column, ForeignKey, Integer, String, Numeric\n",
    "from sqlalchemy.ext.automap import automap_base\n",
    "from sqlalchemy.dialects.mysql import FLOAT"
   ]
  },
  {
   "cell_type": "code",
   "execution_count": 5,
   "metadata": {},
   "outputs": [],
   "source": [
    "engine = create_engine(\"sqlite:///airbnb.sqlite\")\n",
    "metadata = MetaData()\n",
    "metadata.reflect(engine)"
   ]
  },
  {
   "cell_type": "code",
   "execution_count": 6,
   "metadata": {},
   "outputs": [
    {
     "data": {
      "text/plain": [
       "Table('airbnb_weekends', MetaData(), Column('realSum', REAL(), table=<airbnb_weekends>), Column('room_type', TEXT(), table=<airbnb_weekends>), Column('person_capacity', INTEGER(), table=<airbnb_weekends>), Column('host_is_superhost', INTEGER(), table=<airbnb_weekends>), Column('multi', INTEGER(), table=<airbnb_weekends>), Column('biz', INTEGER(), table=<airbnb_weekends>), Column('cleanliness_rating', INTEGER(), table=<airbnb_weekends>), Column('guest_satisfaction_overall', INTEGER(), table=<airbnb_weekends>), Column('bedrooms', INTEGER(), table=<airbnb_weekends>), Column('dist', REAL(), table=<airbnb_weekends>), Column('metro_dist', REAL(), table=<airbnb_weekends>), Column('attr_index', REAL(), table=<airbnb_weekends>), Column('attr_index_norm', REAL(), table=<airbnb_weekends>), Column('rest_index', REAL(), table=<airbnb_weekends>), Column('rest_index_norm', REAL(), table=<airbnb_weekends>), Column('lng', REAL(), table=<airbnb_weekends>), Column('lat', REAL(), table=<airbnb_weekends>), Column('loc', TEXT(), table=<airbnb_weekends>), schema=None)"
      ]
     },
     "execution_count": 6,
     "metadata": {},
     "output_type": "execute_result"
    }
   ],
   "source": [
    "Table('airbnb_weekends', metadata,\n",
    "      realSum=Column(FLOAT(unsigned=True), nullable=False, primary_key=True),\n",
    "      room_type=Column(String(100), nullable=False),\n",
    "      person_capacity=Column(Integer, nullable=False),\n",
    "      host_is_superhost=Column(Integer, nullable=False),\n",
    "      multi=Column(Integer, nullable=False),\n",
    "      biz=Column(Integer, nullable=False),\n",
    "      cleanliness_rating=Column(Integer, nullable=False),\n",
    "      guest_satisfaction_overall=Column(Integer, nullable=False),\n",
    "      bedrooms=Column(Integer, nullable=False),\n",
    "      dist=Column(FLOAT(unsigned=True), nullable=False),\n",
    "      metro_dist=Column(FLOAT(unsigned=True), nullable=False),\n",
    "      attr_index=Column(FLOAT(unsigned=True), nullable=False),\n",
    "      attr_index_norm=Column(FLOAT(unsigned=True), nullable=False),\n",
    "      rest_index=Column(FLOAT(unsigned=True), nullable=False),\n",
    "      rest_index_norm=Column(FLOAT(unsigned=True), nullable=False),\n",
    "      lng=Column(FLOAT(unsigned=True), nullable=False),\n",
    "      lat=Column(FLOAT(unsigned=True), nullable=False),\n",
    "      loc=Column(String(100), nullable=False))\n"
   ]
  },
  {
   "cell_type": "code",
   "execution_count": 7,
   "metadata": {},
   "outputs": [
    {
     "data": {
      "text/plain": [
       "Table('airbnb_weekdays', MetaData(), Column('realSum', REAL(), table=<airbnb_weekdays>), Column('room_type', TEXT(), table=<airbnb_weekdays>), Column('person_capacity', INTEGER(), table=<airbnb_weekdays>), Column('host_is_superhost', INTEGER(), table=<airbnb_weekdays>), Column('multi', INTEGER(), table=<airbnb_weekdays>), Column('biz', INTEGER(), table=<airbnb_weekdays>), Column('cleanliness_rating', INTEGER(), table=<airbnb_weekdays>), Column('guest_satisfaction_overall', INTEGER(), table=<airbnb_weekdays>), Column('bedrooms', INTEGER(), table=<airbnb_weekdays>), Column('dist', REAL(), table=<airbnb_weekdays>), Column('metro_dist', REAL(), table=<airbnb_weekdays>), Column('attr_index', REAL(), table=<airbnb_weekdays>), Column('attr_index_norm', REAL(), table=<airbnb_weekdays>), Column('rest_index', REAL(), table=<airbnb_weekdays>), Column('rest_index_norm', REAL(), table=<airbnb_weekdays>), Column('lng', REAL(), table=<airbnb_weekdays>), Column('lat', REAL(), table=<airbnb_weekdays>), Column('loc', TEXT(), table=<airbnb_weekdays>), schema=None)"
      ]
     },
     "execution_count": 7,
     "metadata": {},
     "output_type": "execute_result"
    }
   ],
   "source": [
    "Table ('airbnb_weekdays', metadata, \n",
    "    realSum = Column(FLOAT(unsigned=True), nullable=False, primary_key=True),\n",
    "    room_type = Column(String(100), nullable=False),\n",
    "    person_capacity = Column(Integer, nullable=False),\n",
    "    host_is_superhost = Column(Integer, nullable=False),\n",
    "    multi = Column(Integer, nullable=False),\n",
    "    biz = Column(Integer, nullable=False),\n",
    "    cleanliness_rating = Column(Integer, nullable=False),\n",
    "    guest_satisfaction_overall = Column(Integer, nullable=False),\n",
    "    bedrooms = Column(Integer, nullable=False),\n",
    "    dist = Column(FLOAT(unsigned=True), nullable=False),\n",
    "    metro_dist = Column(FLOAT(unsigned=True), nullable=False),\n",
    "    attr_index = Column(FLOAT(unsigned=True), nullable=False) ,\n",
    "    attr_index_norm = Column(FLOAT(unsigned=True), nullable=False),\n",
    "    rest_index = Column(FLOAT(unsigned=True), nullable=False),\n",
    "    rest_index_norm = Column(FLOAT(unsigned=True), nullable=False),\n",
    "    lng = Column(FLOAT(unsigned=True), nullable=False),\n",
    "    lat = Column(FLOAT(unsigned=True), nullable=False),\n",
    "    loc = Column(String(100), nullable=False))"
   ]
  },
  {
   "cell_type": "code",
   "execution_count": 9,
   "metadata": {},
   "outputs": [],
   "source": [
    "# reflect an existing database into a new model\n",
    "Base = automap_base()\n",
    "\n",
    "# reflect the tables\n",
    "Base.prepare(engine, reflect=True)"
   ]
  },
  {
   "cell_type": "code",
   "execution_count": 10,
   "metadata": {},
   "outputs": [
    {
     "data": {
      "text/plain": [
       "[]"
      ]
     },
     "execution_count": 10,
     "metadata": {},
     "output_type": "execute_result"
    }
   ],
   "source": [
    "Base.classes.keys()"
   ]
  },
  {
   "cell_type": "code",
   "execution_count": null,
   "metadata": {},
   "outputs": [],
   "source": []
  }
 ],
 "metadata": {
  "kernelspec": {
   "display_name": "base",
   "language": "python",
   "name": "python3"
  },
  "language_info": {
   "codemirror_mode": {
    "name": "ipython",
    "version": 3
   },
   "file_extension": ".py",
   "mimetype": "text/x-python",
   "name": "python",
   "nbconvert_exporter": "python",
   "pygments_lexer": "ipython3",
   "version": "3.9.13"
  },
  "orig_nbformat": 4
 },
 "nbformat": 4,
 "nbformat_minor": 2
}
